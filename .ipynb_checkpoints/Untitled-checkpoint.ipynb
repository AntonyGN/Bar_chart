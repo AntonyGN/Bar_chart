{
 "cells": [
  {
   "cell_type": "code",
   "execution_count": 3,
   "id": "9b7dae65",
   "metadata": {},
   "outputs": [],
   "source": [
    "#import the necessary libraries\n",
    "from openpyxl import Workbook\n",
    "from openpyxl.chart import BarChart, Reference\n",
    "\n",
    "def main(filename):\n",
    "    workbook = Workbook()\n",
    "    sheet = workbook.active\n",
    "    \n",
    "    #Add data to spreadsheet\n",
    "    data_rows = [\n",
    "        [\"Book\", \"Kindle\", \"Paperback\"],\n",
    "        [1, 9.99, 15.99],\n",
    "        [2, 9.99, 25.99],\n",
    "        [3, 9.99, 25.99],\n",
    "        [4, 4.99, 29.99],\n",
    "        [5, 14.99, 39.99],\n",
    "    ]\n",
    "\n",
    "    for row in data_rows:\n",
    "        sheet.append(row)\n",
    "    \n",
    "    #Create the bar chart\n",
    "    bar_chart = BarChart()\n",
    "\n",
    "    data = Reference(worksheet=sheet,\n",
    "                     min_row=1,\n",
    "                     max_row=5,\n",
    "                     min_col=2,\n",
    "                     max_col=3)\n",
    "\n",
    "    bar_chart.add_data(data, titles_from_data=True)\n",
    "    sheet.add_chart(bar_chart, \"E2\")\n",
    "\n",
    "    workbook.save(filename)\n",
    "\n",
    "if __name__ == \"__main__\":\n",
    "    main(\"bar_chart.xlsx\")\n"
   ]
  },
  {
   "cell_type": "code",
   "execution_count": null,
   "id": "76dad011",
   "metadata": {},
   "outputs": [],
   "source": []
  }
 ],
 "metadata": {
  "kernelspec": {
   "display_name": "Python 3 (ipykernel)",
   "language": "python",
   "name": "python3"
  },
  "language_info": {
   "codemirror_mode": {
    "name": "ipython",
    "version": 3
   },
   "file_extension": ".py",
   "mimetype": "text/x-python",
   "name": "python",
   "nbconvert_exporter": "python",
   "pygments_lexer": "ipython3",
   "version": "3.9.13"
  }
 },
 "nbformat": 4,
 "nbformat_minor": 5
}
